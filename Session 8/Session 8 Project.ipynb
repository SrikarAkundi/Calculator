{
 "cells": [
  {
   "cell_type": "code",
   "execution_count": 3,
   "id": "6f5f5873",
   "metadata": {},
   "outputs": [
    {
     "name": "stdout",
     "output_type": "stream",
     "text": [
      "Welcome to the calculator. You can use the operators +, - , *, ^. Clear resets the calculator (use in operation), Cancel erases previous number, Close, closes the calculator\n",
      "Tell me the first number you would like to perform an operation on 7\n",
      "Which operation would you like to perform (example: *, /, ^, +, -) Can type clear, cancel, and close*\n",
      "Tell me the first number you would like to perform an operation on 8\n",
      "56.0\n",
      "Which operation would you like to perform (example: *, /, ^, +, -) Can type clear, cancel, and closeclear\n",
      "Tell me the first number you would like to perform an operation on 12\n",
      "Which operation would you like to perform (example: *, /, ^, +, -) Can type clear, cancel, and close+\n",
      "Tell me the first number you would like to perform an operation on 12\n",
      "24.0\n",
      "Which operation would you like to perform (example: *, /, ^, +, -) Can type clear, cancel, and closecancel\n",
      "Which operation would you like to perform (example: *, /, ^, +, -) Can type clear, cancel, and closeclose\n",
      "Thank you for using Srikar's Calculator\n"
     ]
    }
   ],
   "source": [
    "print(\"Welcome to the calculator. You can use the operators +, - , *, ^. Clear resets the calculator (use in operation), Cancel erases previous number, Close, closes the calculator\")\n",
    "number1 = float(input(\"Tell me the first number you would like to perform an operation on \"))\n",
    "   \n",
    "while True:\n",
    "    operation = input(\"Which operation would you like to perform (example: *, /, ^, +, -) Can type clear, cancel, and close\")\n",
    "    \n",
    "    if operation == \"*\":\n",
    "        number2 = float(input(\"Tell me the first number you would like to perform an operation on \"))\n",
    "        if(number2 == \"cancel\"):\n",
    "            continue\n",
    "        print(number1 * number2)\n",
    "    elif operation == \"+\":\n",
    "        number2 = float(input(\"Tell me the first number you would like to perform an operation on \"))\n",
    "        if(number2 == \"cancel\"):\n",
    "            continue\n",
    "        print(number1 + number2)   \n",
    "    elif operation == \"/\":\n",
    "        number2 = float(input(\"Tell me the first number you would like to perform an operation on \"))\n",
    "        while number2 == 0:\n",
    "            print(\"No Division by 0\")\n",
    "            number2 = float(input(\"Tell me the first number you would like to perform an operation on \"))\n",
    "        if(number2 == \"cancel\"):\n",
    "            continue\n",
    "        print(number1 / number2)\n",
    "    elif operation == \"^\":\n",
    "        number2 = float(input(\"Tell me the first number you would like to perform an operation on \"))\n",
    "        if(number2 == \"cancel\"):\n",
    "            continue\n",
    "        print(number1**number2) \n",
    "    elif operation == \"-\":\n",
    "        number2 = float(input(\"Tell me the first number you would like to perform an operation on \"))\n",
    "        if(number2 == \"cancel\"):\n",
    "            continue\n",
    "        print(number1-number2) \n",
    "    elif operation == \"clear\":\n",
    "        number1 = float(input(\"Tell me the first number you would like to perform an operation on \"))\n",
    "        continue\n",
    "    elif operation == \"close\":\n",
    "        print(\"Thank you for using Srikar's Calculator\")\n",
    "        break\n",
    "    elif operation == \"cancel\":\n",
    "        continue\n",
    "    else:\n",
    "        print(\"I don't understand your operation\")"
   ]
  },
  {
   "cell_type": "code",
   "execution_count": null,
   "id": "0041a3d1",
   "metadata": {},
   "outputs": [],
   "source": [
    "while True:\n",
    "    x = float(input(\"Number1? \"))\n",
    "    operation = input(\"Operation (*, -, +, /). You may also clear and exit \")\n",
    "    y = float(input(\"Number2? \"))\n",
    "    if operation == \"clear\":\n",
    "        continue\n",
    "    if operation == \"exit\":\n",
    "        break\n",
    "    expression = str(x) + str(operation) + str(y)\n",
    "    print(eval(expression))"
   ]
  },
  {
   "cell_type": "code",
   "execution_count": null,
   "id": "97cbc28c",
   "metadata": {},
   "outputs": [
    {
     "name": "stdout",
     "output_type": "stream",
     "text": [
      "Type an expression to evaluate. You may also type exit: 3*8\n",
      "24\n",
      "Type an expression to evaluate. You may also type exit: 9*9\n",
      "81\n",
      "Type an expression to evaluate. You may also type exit: 6*4\n",
      "24\n",
      "Type an expression to evaluate. You may also type exit: 1/2\n",
      "0.5\n",
      "Type an expression to evaluate. You may also type exit: 1**2\n",
      "1\n",
      "Type an expression to evaluate. You may also type exit: 2^2\n",
      "0\n"
     ]
    }
   ],
   "source": [
    "while True:\n",
    "    expression = input(\"Type an expression to evaluate. You may also type exit: \")\n",
    "    if operation == \"exit\":\n",
    "        break\n",
    "    print(eval(expression))"
   ]
  }
 ],
 "metadata": {
  "kernelspec": {
   "display_name": "Python 3 (ipykernel)",
   "language": "python",
   "name": "python3"
  },
  "language_info": {
   "codemirror_mode": {
    "name": "ipython",
    "version": 3
   },
   "file_extension": ".py",
   "mimetype": "text/x-python",
   "name": "python",
   "nbconvert_exporter": "python",
   "pygments_lexer": "ipython3",
   "version": "3.10.5"
  }
 },
 "nbformat": 4,
 "nbformat_minor": 5
}
