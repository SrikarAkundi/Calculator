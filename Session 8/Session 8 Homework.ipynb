{
 "cells": [
  {
   "cell_type": "code",
   "execution_count": 1,
   "id": "952998e8",
   "metadata": {},
   "outputs": [
    {
     "name": "stdout",
     "output_type": "stream",
     "text": [
      "Please type a number or type over: 12\n",
      "21\n",
      "Please type a number or type over: 342\n",
      "243\n",
      "Please type a number or type over: 234\n",
      "432\n",
      "Please type a number or type over: over\n"
     ]
    }
   ],
   "source": [
    "# Homework Class 8, Part 1\n",
    "while True:\n",
    "    number = input(\"Please type a number or type over: \")\n",
    "    if number == \"over\":\n",
    "        break\n",
    "    else:\n",
    "        number = str(number)\n",
    "    number = number[::-1]\n",
    "    number = int(number)\n",
    "    print(number)"
   ]
  },
  {
   "cell_type": "code",
   "execution_count": 10,
   "id": "ab45bc6f",
   "metadata": {},
   "outputs": [
    {
     "name": "stdout",
     "output_type": "stream",
     "text": [
      "What's the password? apple\n",
      "apple\n",
      "What's the password? grapes\n",
      "apple grapes\n",
      "What's the password? potato\n",
      "grapes potato\n",
      "What's the password? banana\n",
      "potato banana\n",
      "What's the password? banana\n",
      "banana banana\n",
      "Access Granted!\n"
     ]
    }
   ],
   "source": [
    "# Homework Class 8, Part 2\n",
    "\n",
    "passwords = []\n",
    "pass1 = input(\"What's the password? \")\n",
    "passwords.append(pass1)\n",
    "iteration = 0\n",
    "print(pass1)\n",
    "\n",
    "while True:\n",
    "    currentpassword = input(\"What's the password? \")\n",
    "    passwords.append(currentpassword)\n",
    "    iteration += 1\n",
    "    print(passwords[iteration-1] + \" \" + passwords[iteration])\n",
    "    if passwords[iteration] == passwords[iteration - 1]:\n",
    "        print(\"Access Granted!\")\n",
    "        break\n",
    "    elif currentpassword == \"stop\":\n",
    "        print(\"Come back next time and try to log in again.\")\n",
    "        break\n",
    "        "
   ]
  }
 ],
 "metadata": {
  "kernelspec": {
   "display_name": "Python 3 (ipykernel)",
   "language": "python",
   "name": "python3"
  },
  "language_info": {
   "codemirror_mode": {
    "name": "ipython",
    "version": 3
   },
   "file_extension": ".py",
   "mimetype": "text/x-python",
   "name": "python",
   "nbconvert_exporter": "python",
   "pygments_lexer": "ipython3",
   "version": "3.10.5"
  }
 },
 "nbformat": 4,
 "nbformat_minor": 5
}
